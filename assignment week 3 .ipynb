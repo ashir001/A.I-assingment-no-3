{
 "cells": [
  {
   "cell_type": "markdown",
   "metadata": {},
   "source": [
    "# 1. INDEXING"
   ]
  },
  {
   "cell_type": "code",
   "execution_count": 1,
   "metadata": {},
   "outputs": [],
   "source": [
    "employee_data = ['Ali', 125000, 'Google', 5]"
   ]
  },
  {
   "cell_type": "code",
   "execution_count": 2,
   "metadata": {},
   "outputs": [
    {
     "name": "stdout",
     "output_type": "stream",
     "text": [
      "Ali is wowking in Google for 5 years and his salary is 125000\n"
     ]
    }
   ],
   "source": [
    "msg = employee_data[0] + \" is wowking in \" + employee_data[2] + \" for \" + str(employee_data[3]) + \" years and his salary is \" + str(employee_data[1])\n",
    "print(msg)"
   ]
  },
  {
   "cell_type": "code",
   "execution_count": 3,
   "metadata": {},
   "outputs": [],
   "source": [
    "studentData = ['Ahmed', 'Bilal', 'Government College University', 'Computer Science', 'BS', 50000,\n",
    "               '28 Januray 2020', '05 February 2020']"
   ]
  },
  {
   "cell_type": "code",
   "execution_count": 4,
   "metadata": {},
   "outputs": [],
   "source": [
    "msg1 = \"\"\"hello {person_name},\n",
    "Your application is accepted for admsiion in {course} in {university}.\n",
    "you have to submit fee {fee} before {due_date}.\n",
    "your class will start from {class_date}. \\n thanks.\"\"\".format(person_name = studentData[0],\n",
    "                                                                course = studentData[3],university = studentData[2],\n",
    "                                                                fee = studentData[-3],\n",
    "                                                                due_date = studentData[-2],\n",
    "                                                                class_date = studentData[-1])"
   ]
  },
  {
   "cell_type": "code",
   "execution_count": 5,
   "metadata": {},
   "outputs": [
    {
     "name": "stdout",
     "output_type": "stream",
     "text": [
      "hello Ahmed,\n",
      "Your application is accepted for admsiion in Computer Science in Government College University.\n",
      "you have to submit fee 50000 before 28 Januray 2020.\n",
      "your class will start from 05 February 2020. \n",
      " thanks.\n"
     ]
    }
   ],
   "source": [
    "print(msg1)"
   ]
  },
  {
   "cell_type": "code",
   "execution_count": 6,
   "metadata": {},
   "outputs": [
    {
     "name": "stdout",
     "output_type": "stream",
     "text": [
      "hello Bilal,\n",
      "Your application is accepted for admsission in Computer Science in Government College University.\n",
      "you have to submit fee 50000 before 28 Januray 2020.\n",
      "your class will start from 05 February 2020. \n",
      " thanks.\n"
     ]
    }
   ],
   "source": [
    "msg2 = \"\"\"hello {person_name},\n",
    "Your application is accepted for admsission in {course} in {university}.\n",
    "you have to submit fee {fee} before {due_date}.\n",
    "your class will start from {class_date}. \\n thanks.\"\"\".format(person_name = studentData[1],\n",
    "                                                                course = studentData[3],university = studentData[2],\n",
    "                                                                fee = studentData[-3],\n",
    "                                                                due_date = studentData[-2],\n",
    "                                                                class_date = studentData[-1])\n",
    "print(msg2)"
   ]
  },
  {
   "cell_type": "markdown",
   "metadata": {},
   "source": [
    "# 2. Slicing"
   ]
  },
  {
   "cell_type": "code",
   "execution_count": 7,
   "metadata": {},
   "outputs": [],
   "source": [
    "cities = [\"Faisalabad\", \"Lahore\", \"Islamabad\", \"Peshawar\", \"Quetta\", \"Sahiwal\", \"Rawalpindi\", \"Sialkot\"]"
   ]
  },
  {
   "cell_type": "code",
   "execution_count": 8,
   "metadata": {},
   "outputs": [
    {
     "data": {
      "text/plain": [
       "(['Faisalabad', 'Lahore', 'Islamabad', 'Peshawar'],\n",
       " ['Islamabad', 'Peshawar', 'Quetta', 'Sahiwal'],\n",
       " ['Sahiwal', 'Rawalpindi', 'Sialkot'])"
      ]
     },
     "execution_count": 8,
     "metadata": {},
     "output_type": "execute_result"
    }
   ],
   "source": [
    "#POSTIVE SLICING\n",
    "cities[:4],cities[2:6],cities[5:]"
   ]
  },
  {
   "cell_type": "code",
   "execution_count": 9,
   "metadata": {},
   "outputs": [
    {
     "data": {
      "text/plain": [
       "(['Quetta', 'Sahiwal', 'Rawalpindi'],\n",
       " ['Peshawar', 'Quetta', 'Sahiwal', 'Rawalpindi', 'Sialkot'])"
      ]
     },
     "execution_count": 9,
     "metadata": {},
     "output_type": "execute_result"
    }
   ],
   "source": [
    "#NEGATIVE SLICING\n",
    "cities[-4:-1],cities[-5:]"
   ]
  },
  {
   "cell_type": "markdown",
   "metadata": {},
   "source": [
    "# 3. Update Lists\n"
   ]
  },
  {
   "cell_type": "code",
   "execution_count": 10,
   "metadata": {},
   "outputs": [],
   "source": [
    "studentData = [\"Ali Raza\", 22, 91.24, \"Computer Science\", 5, \"University of Agriculture\"]"
   ]
  },
  {
   "cell_type": "code",
   "execution_count": 11,
   "metadata": {},
   "outputs": [
    {
     "data": {
      "text/plain": [
       "['Ali Raza',\n",
       " 22,\n",
       " 91.24,\n",
       " 'Computer Science',\n",
       " 5,\n",
       " 'University of Agriculture',\n",
       " '20 february 2019',\n",
       " 8]"
      ]
     },
     "execution_count": 11,
     "metadata": {},
     "output_type": "execute_result"
    }
   ],
   "source": [
    "#Add values to this list using append\n",
    "studentData.append(\"20 february 2019\")\n",
    "studentData.append(8)\n",
    "studentData"
   ]
  },
  {
   "cell_type": "code",
   "execution_count": 12,
   "metadata": {},
   "outputs": [
    {
     "data": {
      "text/plain": [
       "['Ali Raza',\n",
       " 22,\n",
       " 91.24,\n",
       " 'Computer Science',\n",
       " 25000,\n",
       " 5,\n",
       " 'University of Agriculture',\n",
       " '20 february 2019',\n",
       " 8]"
      ]
     },
     "execution_count": 12,
     "metadata": {},
     "output_type": "execute_result"
    }
   ],
   "source": [
    "#Use insert method to insert at specific index\n",
    "studentData.insert(4,25000)\n",
    "studentData"
   ]
  },
  {
   "cell_type": "code",
   "execution_count": 13,
   "metadata": {},
   "outputs": [
    {
     "data": {
      "text/plain": [
       "['Ali Raza',\n",
       " 'M.iqbal',\n",
       " 22,\n",
       " 91.24,\n",
       " 'Computer Science',\n",
       " 25000,\n",
       " 5,\n",
       " 'University of Agriculture',\n",
       " '20 february 2019',\n",
       " 8]"
      ]
     },
     "execution_count": 13,
     "metadata": {},
     "output_type": "execute_result"
    }
   ],
   "source": [
    "#Use insert method to insert at specific index\n",
    "studentData.insert(1,\"M.iqbal\")\n",
    "studentData"
   ]
  },
  {
   "cell_type": "code",
   "execution_count": 14,
   "metadata": {},
   "outputs": [
    {
     "data": {
      "text/plain": [
       "['Zohaib ali',\n",
       " 'M.iqbal',\n",
       " 22,\n",
       " 91.24,\n",
       " 'Computer Science',\n",
       " 25000,\n",
       " 7,\n",
       " 'University of Agriculture',\n",
       " '20 february 2019',\n",
       " 8]"
      ]
     },
     "execution_count": 14,
     "metadata": {},
     "output_type": "execute_result"
    }
   ],
   "source": [
    "#Update list using list update method:\n",
    "studentData[0] = \"Zohaib ali\"\n",
    "studentData[-4] = 7\n",
    "studentData"
   ]
  },
  {
   "cell_type": "code",
   "execution_count": 15,
   "metadata": {},
   "outputs": [
    {
     "data": {
      "text/plain": [
       "['Zohaib ali',\n",
       " 'M.iqbal',\n",
       " 22,\n",
       " 25000,\n",
       " 7,\n",
       " 'University of Agriculture',\n",
       " '20 february 2019',\n",
       " 8]"
      ]
     },
     "execution_count": 15,
     "metadata": {},
     "output_type": "execute_result"
    }
   ],
   "source": [
    "#Remove values from list using remove method\n",
    "studentData.remove(\"Computer Science\")\n",
    "studentData.remove(91.24)\n",
    "studentData"
   ]
  },
  {
   "cell_type": "code",
   "execution_count": 16,
   "metadata": {},
   "outputs": [
    {
     "data": {
      "text/plain": [
       "8"
      ]
     },
     "execution_count": 16,
     "metadata": {},
     "output_type": "execute_result"
    }
   ],
   "source": [
    "#Removing last value using pop method\n",
    "studentData.pop()"
   ]
  },
  {
   "cell_type": "code",
   "execution_count": 17,
   "metadata": {},
   "outputs": [
    {
     "data": {
      "text/plain": [
       "25000"
      ]
     },
     "execution_count": 17,
     "metadata": {},
     "output_type": "execute_result"
    }
   ],
   "source": [
    "#removing value at index 3 using pop method\n",
    "studentData.pop(3)"
   ]
  },
  {
   "cell_type": "code",
   "execution_count": 18,
   "metadata": {},
   "outputs": [
    {
     "data": {
      "text/plain": [
       "['Zohaib ali',\n",
       " 'M.iqbal',\n",
       " 22,\n",
       " 7,\n",
       " 'University of Agriculture',\n",
       " '20 february 2019']"
      ]
     },
     "execution_count": 18,
     "metadata": {},
     "output_type": "execute_result"
    }
   ],
   "source": [
    "studentData"
   ]
  },
  {
   "cell_type": "markdown",
   "metadata": {},
   "source": [
    "# Multidimensional list tasks\n",
    "\n"
   ]
  },
  {
   "cell_type": "code",
   "execution_count": 19,
   "metadata": {},
   "outputs": [],
   "source": [
    "employeeData = [[\"Ali\", 35000, \"Software Engineer\"],\n",
    "\t\t\t\t[\"Talha\", 55000, \"Product Manager\"],\n",
    "\t\t\t\t[\"Nasir\", 79000, \"Computer Engineer\"],\n",
    "\t\t\t\t[\"Khalid\", 44000, \"DBA\"]]\n"
   ]
  },
  {
   "cell_type": "markdown",
   "metadata": {},
   "source": [
    "# For Loop Tasks"
   ]
  },
  {
   "cell_type": "code",
   "execution_count": 20,
   "metadata": {},
   "outputs": [
    {
     "name": "stdout",
     "output_type": "stream",
     "text": [
      "Talha with slary 55000\n",
      "Nasir with slary 79000\n"
     ]
    }
   ],
   "source": [
    "#Print name of employees with salaray greater than 50000.\n",
    "for i in employeeData:\n",
    "    salary = i[1]\n",
    "    if salary >= 50000:\n",
    "        print(i[0],\"with slary\",i[1])"
   ]
  },
  {
   "cell_type": "code",
   "execution_count": 21,
   "metadata": {},
   "outputs": [
    {
     "name": "stdout",
     "output_type": "stream",
     "text": [
      "total salary of all employees: 213000\n"
     ]
    }
   ],
   "source": [
    "#Calculate total salary of all employees.\n",
    "total_salary = 0\n",
    "for i in employeeData:\n",
    "    total_salary += i[1]\n",
    "print(\"total salary of all employees:\" ,total_salary)"
   ]
  },
  {
   "cell_type": "markdown",
   "metadata": {},
   "source": [
    "List update tasks"
   ]
  },
  {
   "cell_type": "code",
   "execution_count": 22,
   "metadata": {},
   "outputs": [
    {
     "name": "stdout",
     "output_type": "stream",
     "text": [
      "['Nasir', 90000, 'Product manager']\n"
     ]
    }
   ],
   "source": [
    "#Change salary of nasir from 79000 to 90000 and designation to \"Product Manager\"\n",
    "for i in employeeData:\n",
    "    if i[0] == \"Nasir\":\n",
    "        i[1]=90000\n",
    "        i[2]=\"Product manager\"\n",
    "        print(employeeData[2])"
   ]
  },
  {
   "cell_type": "code",
   "execution_count": 23,
   "metadata": {},
   "outputs": [
    {
     "name": "stdout",
     "output_type": "stream",
     "text": [
      "['Khalid', 50000, 'DBA']\n"
     ]
    }
   ],
   "source": [
    "#Change salary of Khalid to 50000\n",
    "for i in employeeData:\n",
    "    if i[0] == \"Khalid\":\n",
    "        i[1] = 50000\n",
    "        print(employeeData[-1])"
   ]
  },
  {
   "cell_type": "code",
   "execution_count": 24,
   "metadata": {},
   "outputs": [
    {
     "data": {
      "text/plain": [
       "[['Ali', 35000, 'Software Engineer'],\n",
       " ['Talha', 55000, 'Product Manager'],\n",
       " ['Nasir', 90000, 'Product manager'],\n",
       " ['Khalid', 50000, 'DBA']]"
      ]
     },
     "execution_count": 24,
     "metadata": {},
     "output_type": "execute_result"
    }
   ],
   "source": [
    "employeeData"
   ]
  },
  {
   "cell_type": "markdown",
   "metadata": {},
   "source": [
    "# Login User\n",
    "You have given some users data. You have to write a script to check if username and password are correct. If username and password are correct. Then you have to check if email is verified or not. If it is verified then print Login Succeed else print Email not verified. If username or password are incorrect you have to print Incorrect Login details"
   ]
  },
  {
   "cell_type": "code",
   "execution_count": 25,
   "metadata": {},
   "outputs": [
    {
     "name": "stdout",
     "output_type": "stream",
     "text": [
      "user name= faizan1214\n",
      "passward= qwerty\n",
      "Verified Email\n",
      "Log in Sucessfull\n"
     ]
    }
   ],
   "source": [
    "user_name = input(\"user name= \")\n",
    "passward = input(\"passward= \")\n",
    "verfiedEmails = (\"faizan1214\")\n",
    "if user_name == \"faizan1214\" and passward == \"qwerty\":\n",
    "    if verfiedEmails.__contains__(user_name):\n",
    "        print(\"Verified Email\") \n",
    "    else :\n",
    "        print(\"Email not verified\")\n",
    "    print(\"Log in Sucessfull\")\n",
    "else:\n",
    "    print(\"Incorrect Login details\")"
   ]
  },
  {
   "cell_type": "code",
   "execution_count": 26,
   "metadata": {},
   "outputs": [
    {
     "name": "stdout",
     "output_type": "stream",
     "text": [
      "user name= faizan1214\n",
      "passward= qwerty\n",
      "Email not verified\n",
      "Log in Sucessfull\n"
     ]
    }
   ],
   "source": [
    "user_name = input(\"user name= \")\n",
    "passward = input(\"passward= \")\n",
    "verfiedEmails = ()\n",
    "if user_name == \"faizan1214\" and passward == \"qwerty\":\n",
    "    if verfiedEmails.__contains__(user_name):\n",
    "        print(\"Verified Email\") \n",
    "    else :\n",
    "        print(\"Email not verified\")\n",
    "    print(\"Log in Sucessfull\")\n",
    "else:\n",
    "    print(\"Incorrect Login details\")"
   ]
  },
  {
   "cell_type": "code",
   "execution_count": null,
   "metadata": {},
   "outputs": [],
   "source": []
  }
 ],
 "metadata": {
  "kernelspec": {
   "display_name": "Python 3",
   "language": "python",
   "name": "python3"
  },
  "language_info": {
   "codemirror_mode": {
    "name": "ipython",
    "version": 3
   },
   "file_extension": ".py",
   "mimetype": "text/x-python",
   "name": "python",
   "nbconvert_exporter": "python",
   "pygments_lexer": "ipython3",
   "version": "3.7.4"
  }
 },
 "nbformat": 4,
 "nbformat_minor": 2
}
